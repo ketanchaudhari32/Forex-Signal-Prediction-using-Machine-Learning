{
 "cells": [
  {
   "cell_type": "code",
   "execution_count": 1,
   "metadata": {},
   "outputs": [],
   "source": [
    "import numpy as np\n",
    "import pandas as pd\n",
    "import matplotlib.pyplot as plt"
   ]
  },
  {
   "cell_type": "code",
   "execution_count": 2,
   "metadata": {},
   "outputs": [],
   "source": [
    "close_1_data=pd.read_csv('processedData/eur_usd_1min_1_close.csv')"
   ]
  },
  {
   "cell_type": "code",
   "execution_count": 3,
   "metadata": {},
   "outputs": [],
   "source": [
    "from sklearn.model_selection import train_test_split"
   ]
  },
  {
   "cell_type": "code",
   "execution_count": 4,
   "metadata": {},
   "outputs": [
    {
     "name": "stdout",
     "output_type": "stream",
     "text": [
      "[[[0.9181 ]\n",
      "  [0.9181 ]\n",
      "  [0.9181 ]\n",
      "  [0.9181 ]]\n",
      "\n",
      " [[0.9152 ]\n",
      "  [0.9152 ]\n",
      "  [0.9152 ]\n",
      "  [0.9152 ]]\n",
      "\n",
      " [[0.9042 ]\n",
      "  [0.9042 ]\n",
      "  [0.9042 ]\n",
      "  [0.9042 ]]\n",
      "\n",
      " ...\n",
      "\n",
      " [[1.44199]\n",
      "  [1.44209]\n",
      "  [1.44199]\n",
      "  [1.44209]]\n",
      "\n",
      " [[1.4421 ]\n",
      "  [1.44229]\n",
      "  [1.44209]\n",
      "  [1.44221]]\n",
      "\n",
      " [[1.44229]\n",
      "  [1.44239]\n",
      "  [1.44219]\n",
      "  [1.44219]]]\n",
      "[ 1. -1. -1. ...  1.  1. -1.]\n"
     ]
    }
   ],
   "source": [
    "\n",
    "x=close_1_data.iloc[:,1:-1].values\n",
    "y=close_1_data.iloc[:,5].values\n",
    "\n",
    "x, y = np.array(x), np.array(y)\n",
    "x = np.reshape(x, (x.shape[0], x.shape[1], 1))\n",
    "print(x)\n",
    "print(y)"
   ]
  },
  {
   "cell_type": "code",
   "execution_count": 5,
   "metadata": {},
   "outputs": [],
   "source": [
    "x_train_val,x_test, y_train_val, y_test=train_test_split(x,y,test_size=0.30,shuffle=False)\n",
    "x_train,x_val, y_train, y_val=train_test_split(x_train_val,y_train_val,test_size=0.25)"
   ]
  },
  {
   "cell_type": "code",
   "execution_count": 6,
   "metadata": {},
   "outputs": [
    {
     "name": "stdout",
     "output_type": "stream",
     "text": [
      "550500 314572 183501\n"
     ]
    }
   ],
   "source": [
    "print(len(x_train),len(x_test), len(x_val))"
   ]
  },
  {
   "cell_type": "code",
   "execution_count": null,
   "metadata": {},
   "outputs": [
    {
     "name": "stderr",
     "output_type": "stream",
     "text": [
      "Using TensorFlow backend.\n"
     ]
    }
   ],
   "source": [
    "\n",
    "from keras.layers import LSTM\n",
    "from keras.layers import Dropout"
   ]
  },
  {
   "cell_type": "code",
   "execution_count": null,
   "metadata": {},
   "outputs": [],
   "source": [
    "regressor = Sequential()\n",
    "regressor.add(LSTM(units = 50, return_sequences = True, input_shape = (x.shape[1], 1)))\n",
    "regressor.add(Dropout(0.2))\n",
    "regressor.add(LSTM(units = 50, return_sequences = True))\n",
    "regressor.add(Dropout(0.2))\n",
    "regressor.add(LSTM(units = 50, return_sequences = True))\n",
    "regressor.add(Dropout(0.2))\n",
    "regressor.add(LSTM(units = 50))\n",
    "regressor.add(Dropout(0.2))\n",
    "regressor.add(Dense(units = 1))"
   ]
  },
  {
   "cell_type": "code",
   "execution_count": null,
   "metadata": {},
   "outputs": [],
   "source": []
  }
 ],
 "metadata": {
  "kernelspec": {
   "display_name": "forex",
   "language": "python",
   "name": "forex"
  },
  "language_info": {
   "codemirror_mode": {
    "name": "ipython",
    "version": 3
   },
   "file_extension": ".py",
   "mimetype": "text/x-python",
   "name": "python",
   "nbconvert_exporter": "python",
   "pygments_lexer": "ipython3",
   "version": "3.7.7"
  }
 },
 "nbformat": 4,
 "nbformat_minor": 4
}
